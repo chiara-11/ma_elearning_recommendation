{
 "cells": [
  {
   "cell_type": "markdown",
   "metadata": {},
   "source": [
    "# Restrict Data\n",
    "\n",
    "This file marks the beginning of the data preparation. However, it is only for illustrating what is done in the file `restrict_data.py` and no data is saved here.\n",
    "\n",
    "We restrict the data sets to the relevant data. For example, we remove rows of assignments in `assignment_details.csv` which do not appear in `action_logs.csv` or `unit_test_scores.csv`."
   ]
  },
  {
   "cell_type": "code",
   "execution_count": 1,
   "metadata": {},
   "outputs": [
    {
     "name": "stderr",
     "output_type": "stream",
     "text": [
      "C:\\Users\\Chiara\\AppData\\Local\\Temp\\ipykernel_12356\\900277537.py:4: DeprecationWarning: \n",
      "Pyarrow will become a required dependency of pandas in the next major release of pandas (pandas 3.0),\n",
      "(to allow more performant data types, such as the Arrow string type, and better interoperability with other libraries)\n",
      "but was not found to be installed on your system.\n",
      "If this would cause problems for you,\n",
      "please provide us feedback at https://github.com/pandas-dev/pandas/issues/54466\n",
      "        \n",
      "  import pandas as pd\n",
      "c:\\Users\\Chiara\\Documents\\Uni_Master_MMDS\\Masterarbeit\\elearning-recommender\\.venv\\Lib\\site-packages\\tqdm\\auto.py:21: TqdmWarning: IProgress not found. Please update jupyter and ipywidgets. See https://ipywidgets.readthedocs.io/en/stable/user_install.html\n",
      "  from .autonotebook import tqdm as notebook_tqdm\n"
     ]
    }
   ],
   "source": [
    "%load_ext autoreload\n",
    "%autoreload 2\n",
    "\n",
    "import pandas as pd\n",
    "\n",
    "import sys\n",
    "import os\n",
    "sys.path.append(os.path.abspath('../../sources'))\n",
    "\n",
    "from data_preparation import restrict_data\n",
    "import utils"
   ]
  },
  {
   "cell_type": "markdown",
   "metadata": {},
   "source": [
    "### Action Logs"
   ]
  },
  {
   "cell_type": "code",
   "execution_count": 2,
   "metadata": {},
   "outputs": [
    {
     "name": "stdout",
     "output_type": "stream",
     "text": [
      "23932276\n"
     ]
    },
    {
     "data": {
      "text/html": [
       "<div>\n",
       "<style scoped>\n",
       "    .dataframe tbody tr th:only-of-type {\n",
       "        vertical-align: middle;\n",
       "    }\n",
       "\n",
       "    .dataframe tbody tr th {\n",
       "        vertical-align: top;\n",
       "    }\n",
       "\n",
       "    .dataframe thead th {\n",
       "        text-align: right;\n",
       "    }\n",
       "</style>\n",
       "<table border=\"1\" class=\"dataframe\">\n",
       "  <thead>\n",
       "    <tr style=\"text-align: right;\">\n",
       "      <th></th>\n",
       "      <th>assignment_log_id</th>\n",
       "      <th>timestamp</th>\n",
       "      <th>problem_id</th>\n",
       "      <th>max_attempts</th>\n",
       "      <th>available_core_tutoring</th>\n",
       "      <th>score_viewable</th>\n",
       "      <th>continuous_score_viewable</th>\n",
       "      <th>action</th>\n",
       "      <th>hint_id</th>\n",
       "      <th>explanation_id</th>\n",
       "    </tr>\n",
       "  </thead>\n",
       "  <tbody>\n",
       "    <tr>\n",
       "      <th>0</th>\n",
       "      <td>2QV1F2GSBZ</td>\n",
       "      <td>1.599151e+09</td>\n",
       "      <td>NaN</td>\n",
       "      <td>NaN</td>\n",
       "      <td>NaN</td>\n",
       "      <td>NaN</td>\n",
       "      <td>NaN</td>\n",
       "      <td>assignment_started</td>\n",
       "      <td>NaN</td>\n",
       "      <td>NaN</td>\n",
       "    </tr>\n",
       "    <tr>\n",
       "      <th>1</th>\n",
       "      <td>2QV1F2GSBZ</td>\n",
       "      <td>1.599151e+09</td>\n",
       "      <td>I2GX4OQIE</td>\n",
       "      <td>3.0</td>\n",
       "      <td>answer</td>\n",
       "      <td>1.0</td>\n",
       "      <td>1.0</td>\n",
       "      <td>problem_started</td>\n",
       "      <td>NaN</td>\n",
       "      <td>NaN</td>\n",
       "    </tr>\n",
       "    <tr>\n",
       "      <th>2</th>\n",
       "      <td>2QV1F2GSBZ</td>\n",
       "      <td>1.599151e+09</td>\n",
       "      <td>I2GX4OQIE</td>\n",
       "      <td>NaN</td>\n",
       "      <td>NaN</td>\n",
       "      <td>NaN</td>\n",
       "      <td>NaN</td>\n",
       "      <td>wrong_response</td>\n",
       "      <td>NaN</td>\n",
       "      <td>NaN</td>\n",
       "    </tr>\n",
       "    <tr>\n",
       "      <th>3</th>\n",
       "      <td>2QV1F2GSBZ</td>\n",
       "      <td>1.599151e+09</td>\n",
       "      <td>I2GX4OQIE</td>\n",
       "      <td>NaN</td>\n",
       "      <td>NaN</td>\n",
       "      <td>NaN</td>\n",
       "      <td>NaN</td>\n",
       "      <td>wrong_response</td>\n",
       "      <td>NaN</td>\n",
       "      <td>NaN</td>\n",
       "    </tr>\n",
       "    <tr>\n",
       "      <th>4</th>\n",
       "      <td>2QV1F2GSBZ</td>\n",
       "      <td>1.599151e+09</td>\n",
       "      <td>I2GX4OQIE</td>\n",
       "      <td>NaN</td>\n",
       "      <td>NaN</td>\n",
       "      <td>NaN</td>\n",
       "      <td>NaN</td>\n",
       "      <td>answer_requested</td>\n",
       "      <td>NaN</td>\n",
       "      <td>NaN</td>\n",
       "    </tr>\n",
       "  </tbody>\n",
       "</table>\n",
       "</div>"
      ],
      "text/plain": [
       "  assignment_log_id     timestamp problem_id  max_attempts  \\\n",
       "0        2QV1F2GSBZ  1.599151e+09        NaN           NaN   \n",
       "1        2QV1F2GSBZ  1.599151e+09  I2GX4OQIE           3.0   \n",
       "2        2QV1F2GSBZ  1.599151e+09  I2GX4OQIE           NaN   \n",
       "3        2QV1F2GSBZ  1.599151e+09  I2GX4OQIE           NaN   \n",
       "4        2QV1F2GSBZ  1.599151e+09  I2GX4OQIE           NaN   \n",
       "\n",
       "  available_core_tutoring  score_viewable  continuous_score_viewable  \\\n",
       "0                     NaN             NaN                        NaN   \n",
       "1                  answer             1.0                        1.0   \n",
       "2                     NaN             NaN                        NaN   \n",
       "3                     NaN             NaN                        NaN   \n",
       "4                     NaN             NaN                        NaN   \n",
       "\n",
       "               action hint_id explanation_id  \n",
       "0  assignment_started     NaN            NaN  \n",
       "1     problem_started     NaN            NaN  \n",
       "2      wrong_response     NaN            NaN  \n",
       "3      wrong_response     NaN            NaN  \n",
       "4    answer_requested     NaN            NaN  "
      ]
     },
     "execution_count": 2,
     "metadata": {},
     "output_type": "execute_result"
    }
   ],
   "source": [
    "action_logs = utils.read_action_logs()\n",
    "print(len(action_logs))  # 23932276\n",
    "action_logs.head()"
   ]
  },
  {
   "cell_type": "code",
   "execution_count": 3,
   "metadata": {},
   "outputs": [
    {
     "data": {
      "text/plain": [
       "638528"
      ]
     },
     "execution_count": 3,
     "metadata": {},
     "output_type": "execute_result"
    }
   ],
   "source": [
    "iu_ids = action_logs[\"assignment_log_id\"].unique()\n",
    "len(iu_ids)  # 638528"
   ]
  },
  {
   "cell_type": "markdown",
   "metadata": {},
   "source": [
    "### Unit Test Scores"
   ]
  },
  {
   "cell_type": "code",
   "execution_count": 4,
   "metadata": {},
   "outputs": [
    {
     "name": "stdout",
     "output_type": "stream",
     "text": [
      "452439\n"
     ]
    },
    {
     "data": {
      "text/html": [
       "<div>\n",
       "<style scoped>\n",
       "    .dataframe tbody tr th:only-of-type {\n",
       "        vertical-align: middle;\n",
       "    }\n",
       "\n",
       "    .dataframe tbody tr th {\n",
       "        vertical-align: top;\n",
       "    }\n",
       "\n",
       "    .dataframe thead th {\n",
       "        text-align: right;\n",
       "    }\n",
       "</style>\n",
       "<table border=\"1\" class=\"dataframe\">\n",
       "  <thead>\n",
       "    <tr style=\"text-align: right;\">\n",
       "      <th></th>\n",
       "      <th>assignment_log_id</th>\n",
       "      <th>problem_id</th>\n",
       "      <th>score</th>\n",
       "    </tr>\n",
       "  </thead>\n",
       "  <tbody>\n",
       "    <tr>\n",
       "      <th>0</th>\n",
       "      <td>1CEASUAUQJ</td>\n",
       "      <td>18J6436AS5</td>\n",
       "      <td>1</td>\n",
       "    </tr>\n",
       "    <tr>\n",
       "      <th>1</th>\n",
       "      <td>2IMKPEIL2Q</td>\n",
       "      <td>9RMI4CZU9</td>\n",
       "      <td>0</td>\n",
       "    </tr>\n",
       "    <tr>\n",
       "      <th>2</th>\n",
       "      <td>2IMKPEIL2Q</td>\n",
       "      <td>8F4U5WWTV</td>\n",
       "      <td>0</td>\n",
       "    </tr>\n",
       "    <tr>\n",
       "      <th>3</th>\n",
       "      <td>2IMKPEIL2Q</td>\n",
       "      <td>27D3I359NE</td>\n",
       "      <td>1</td>\n",
       "    </tr>\n",
       "    <tr>\n",
       "      <th>4</th>\n",
       "      <td>2IMKPEIL2Q</td>\n",
       "      <td>22DY4PFVMV</td>\n",
       "      <td>1</td>\n",
       "    </tr>\n",
       "  </tbody>\n",
       "</table>\n",
       "</div>"
      ],
      "text/plain": [
       "  assignment_log_id  problem_id  score\n",
       "0        1CEASUAUQJ  18J6436AS5      1\n",
       "1        2IMKPEIL2Q   9RMI4CZU9      0\n",
       "2        2IMKPEIL2Q   8F4U5WWTV      0\n",
       "3        2IMKPEIL2Q  27D3I359NE      1\n",
       "4        2IMKPEIL2Q  22DY4PFVMV      1"
      ]
     },
     "execution_count": 4,
     "metadata": {},
     "output_type": "execute_result"
    }
   ],
   "source": [
    "unit_test_scores = utils.read_unit_test_scores()\n",
    "print(len(unit_test_scores))  # 452439\n",
    "unit_test_scores.head()"
   ]
  },
  {
   "cell_type": "code",
   "execution_count": 5,
   "metadata": {},
   "outputs": [
    {
     "data": {
      "text/plain": [
       "42343"
      ]
     },
     "execution_count": 5,
     "metadata": {},
     "output_type": "execute_result"
    }
   ],
   "source": [
    "ut_ids = unit_test_scores[\"assignment_log_id\"].unique()\n",
    "len(ut_ids)  # 42343"
   ]
  },
  {
   "cell_type": "markdown",
   "metadata": {},
   "source": [
    "### Assignment Relationships"
   ]
  },
  {
   "cell_type": "code",
   "execution_count": 6,
   "metadata": {},
   "outputs": [
    {
     "name": "stdout",
     "output_type": "stream",
     "text": [
      "699839\n"
     ]
    },
    {
     "data": {
      "text/html": [
       "<div>\n",
       "<style scoped>\n",
       "    .dataframe tbody tr th:only-of-type {\n",
       "        vertical-align: middle;\n",
       "    }\n",
       "\n",
       "    .dataframe tbody tr th {\n",
       "        vertical-align: top;\n",
       "    }\n",
       "\n",
       "    .dataframe thead th {\n",
       "        text-align: right;\n",
       "    }\n",
       "</style>\n",
       "<table border=\"1\" class=\"dataframe\">\n",
       "  <thead>\n",
       "    <tr style=\"text-align: right;\">\n",
       "      <th></th>\n",
       "      <th>unit_test_assignment_log_id</th>\n",
       "      <th>in_unit_assignment_log_id</th>\n",
       "    </tr>\n",
       "  </thead>\n",
       "  <tbody>\n",
       "    <tr>\n",
       "      <th>0</th>\n",
       "      <td>7FGC8P0F1</td>\n",
       "      <td>V6YXT3UG</td>\n",
       "    </tr>\n",
       "    <tr>\n",
       "      <th>1</th>\n",
       "      <td>15KQFID5U5</td>\n",
       "      <td>1TFFYMT814</td>\n",
       "    </tr>\n",
       "    <tr>\n",
       "      <th>2</th>\n",
       "      <td>QKDRPCXSG</td>\n",
       "      <td>1N2IFGUASM</td>\n",
       "    </tr>\n",
       "    <tr>\n",
       "      <th>3</th>\n",
       "      <td>1JOJIQXU1B</td>\n",
       "      <td>15W4ET3W62</td>\n",
       "    </tr>\n",
       "    <tr>\n",
       "      <th>4</th>\n",
       "      <td>2C9YZRVZT0</td>\n",
       "      <td>1WORTY787C</td>\n",
       "    </tr>\n",
       "  </tbody>\n",
       "</table>\n",
       "</div>"
      ],
      "text/plain": [
       "  unit_test_assignment_log_id in_unit_assignment_log_id\n",
       "0                   7FGC8P0F1                  V6YXT3UG\n",
       "1                  15KQFID5U5                1TFFYMT814\n",
       "2                   QKDRPCXSG                1N2IFGUASM\n",
       "3                  1JOJIQXU1B                15W4ET3W62\n",
       "4                  2C9YZRVZT0                1WORTY787C"
      ]
     },
     "execution_count": 6,
     "metadata": {},
     "output_type": "execute_result"
    }
   ],
   "source": [
    "assignment_relationships = utils.read_assignment_relationships()\n",
    "print(len(assignment_relationships))  # 699839\n",
    "assignment_relationships.head()"
   ]
  },
  {
   "cell_type": "markdown",
   "metadata": {},
   "source": [
    "### Assignment Details\n",
    "\n",
    "We restrict the assignment details to those assignments for which there is data in `action_logs` or `unit_test_scores`. The other rows will be dropped."
   ]
  },
  {
   "cell_type": "code",
   "execution_count": 7,
   "metadata": {},
   "outputs": [
    {
     "name": "stdout",
     "output_type": "stream",
     "text": [
      "9319676\n"
     ]
    },
    {
     "data": {
      "text/html": [
       "<div>\n",
       "<style scoped>\n",
       "    .dataframe tbody tr th:only-of-type {\n",
       "        vertical-align: middle;\n",
       "    }\n",
       "\n",
       "    .dataframe tbody tr th {\n",
       "        vertical-align: top;\n",
       "    }\n",
       "\n",
       "    .dataframe thead th {\n",
       "        text-align: right;\n",
       "    }\n",
       "</style>\n",
       "<table border=\"1\" class=\"dataframe\">\n",
       "  <thead>\n",
       "    <tr style=\"text-align: right;\">\n",
       "      <th></th>\n",
       "      <th>teacher_id</th>\n",
       "      <th>class_id</th>\n",
       "      <th>student_id</th>\n",
       "      <th>sequence_id</th>\n",
       "      <th>assignment_release_date</th>\n",
       "      <th>assignment_due_date</th>\n",
       "      <th>assignment_start_time</th>\n",
       "      <th>assignment_end_time</th>\n",
       "    </tr>\n",
       "    <tr>\n",
       "      <th>assignment_log_id</th>\n",
       "      <th></th>\n",
       "      <th></th>\n",
       "      <th></th>\n",
       "      <th></th>\n",
       "      <th></th>\n",
       "      <th></th>\n",
       "      <th></th>\n",
       "      <th></th>\n",
       "    </tr>\n",
       "  </thead>\n",
       "  <tbody>\n",
       "    <tr>\n",
       "      <th>2PLEB2KWK9</th>\n",
       "      <td>22OEQXISYV</td>\n",
       "      <td>133F5L5O95</td>\n",
       "      <td>L97DTM607</td>\n",
       "      <td>1FLYIHK4Q4</td>\n",
       "      <td>1.539635e+09</td>\n",
       "      <td>1.540067e+09</td>\n",
       "      <td>1539634866.476</td>\n",
       "      <td>NaN</td>\n",
       "    </tr>\n",
       "    <tr>\n",
       "      <th>8G25XNCXN</th>\n",
       "      <td>2SKA2RTF6</td>\n",
       "      <td>2OL82EC95R</td>\n",
       "      <td>21S35PU5W2</td>\n",
       "      <td>CDLX4UJ84</td>\n",
       "      <td>1.539871e+09</td>\n",
       "      <td>NaN</td>\n",
       "      <td>1539871403.267</td>\n",
       "      <td>1539871641.345</td>\n",
       "    </tr>\n",
       "    <tr>\n",
       "      <th>266AW7UU1V</th>\n",
       "      <td>1FJ326JFAH</td>\n",
       "      <td>1WJWBO8XL4</td>\n",
       "      <td>IBO6BEHXA</td>\n",
       "      <td>2T42B3UC5</td>\n",
       "      <td>1.539885e+09</td>\n",
       "      <td>NaN</td>\n",
       "      <td>1539884690.684</td>\n",
       "      <td>NaN</td>\n",
       "    </tr>\n",
       "    <tr>\n",
       "      <th>15SHL0U0E6</th>\n",
       "      <td>129LDU45TT</td>\n",
       "      <td>IBO6BEHXA</td>\n",
       "      <td>1CT2ERTNC7</td>\n",
       "      <td>7ZGYNOHS3</td>\n",
       "      <td>1.539896e+09</td>\n",
       "      <td>1.540242e+09</td>\n",
       "      <td>1539952545.055</td>\n",
       "      <td>NaN</td>\n",
       "    </tr>\n",
       "    <tr>\n",
       "      <th>CQA32TBFI</th>\n",
       "      <td>1FJ326JFAH</td>\n",
       "      <td>1WJWBO8XL4</td>\n",
       "      <td>2JC4HHXU4M</td>\n",
       "      <td>2T42B3UC5</td>\n",
       "      <td>1.539885e+09</td>\n",
       "      <td>NaN</td>\n",
       "      <td>1539974068.802</td>\n",
       "      <td>NaN</td>\n",
       "    </tr>\n",
       "  </tbody>\n",
       "</table>\n",
       "</div>"
      ],
      "text/plain": [
       "                   teacher_id    class_id  student_id sequence_id  \\\n",
       "assignment_log_id                                                   \n",
       "2PLEB2KWK9         22OEQXISYV  133F5L5O95   L97DTM607  1FLYIHK4Q4   \n",
       "8G25XNCXN           2SKA2RTF6  2OL82EC95R  21S35PU5W2   CDLX4UJ84   \n",
       "266AW7UU1V         1FJ326JFAH  1WJWBO8XL4   IBO6BEHXA   2T42B3UC5   \n",
       "15SHL0U0E6         129LDU45TT   IBO6BEHXA  1CT2ERTNC7   7ZGYNOHS3   \n",
       "CQA32TBFI          1FJ326JFAH  1WJWBO8XL4  2JC4HHXU4M   2T42B3UC5   \n",
       "\n",
       "                   assignment_release_date  assignment_due_date  \\\n",
       "assignment_log_id                                                 \n",
       "2PLEB2KWK9                    1.539635e+09         1.540067e+09   \n",
       "8G25XNCXN                     1.539871e+09                  NaN   \n",
       "266AW7UU1V                    1.539885e+09                  NaN   \n",
       "15SHL0U0E6                    1.539896e+09         1.540242e+09   \n",
       "CQA32TBFI                     1.539885e+09                  NaN   \n",
       "\n",
       "                  assignment_start_time assignment_end_time  \n",
       "assignment_log_id                                            \n",
       "2PLEB2KWK9               1539634866.476                 NaN  \n",
       "8G25XNCXN                1539871403.267      1539871641.345  \n",
       "266AW7UU1V               1539884690.684                 NaN  \n",
       "15SHL0U0E6               1539952545.055                 NaN  \n",
       "CQA32TBFI                1539974068.802                 NaN  "
      ]
     },
     "execution_count": 7,
     "metadata": {},
     "output_type": "execute_result"
    }
   ],
   "source": [
    "assignment_details = utils.read_assignment_details()\n",
    "print(len(assignment_details))  # 9319676\n",
    "assignment_details.head()"
   ]
  },
  {
   "cell_type": "code",
   "execution_count": 8,
   "metadata": {},
   "outputs": [
    {
     "data": {
      "text/plain": [
       "(680871, 680871)"
      ]
     },
     "execution_count": 8,
     "metadata": {},
     "output_type": "execute_result"
    }
   ],
   "source": [
    "all_ids = list(ut_ids) + list(iu_ids)\n",
    "assignment_details_rest = assignment_details.loc[all_ids].copy()\n",
    "len(all_ids), len(assignment_details_rest)  # 680871"
   ]
  },
  {
   "cell_type": "markdown",
   "metadata": {},
   "source": [
    "### Sequence Relationships"
   ]
  },
  {
   "cell_type": "code",
   "execution_count": 9,
   "metadata": {},
   "outputs": [
    {
     "name": "stdout",
     "output_type": "stream",
     "text": [
      "12564\n"
     ]
    },
    {
     "data": {
      "text/html": [
       "<div>\n",
       "<style scoped>\n",
       "    .dataframe tbody tr th:only-of-type {\n",
       "        vertical-align: middle;\n",
       "    }\n",
       "\n",
       "    .dataframe tbody tr th {\n",
       "        vertical-align: top;\n",
       "    }\n",
       "\n",
       "    .dataframe thead th {\n",
       "        text-align: right;\n",
       "    }\n",
       "</style>\n",
       "<table border=\"1\" class=\"dataframe\">\n",
       "  <thead>\n",
       "    <tr style=\"text-align: right;\">\n",
       "      <th></th>\n",
       "      <th>unit_test_sequence_id</th>\n",
       "      <th>in_unit_sequence_id</th>\n",
       "    </tr>\n",
       "  </thead>\n",
       "  <tbody>\n",
       "    <tr>\n",
       "      <th>0</th>\n",
       "      <td>K1U9M2PVF</td>\n",
       "      <td>1XEPEYCPC3</td>\n",
       "    </tr>\n",
       "    <tr>\n",
       "      <th>1</th>\n",
       "      <td>K1U9M2PVF</td>\n",
       "      <td>20SXJMMSRG</td>\n",
       "    </tr>\n",
       "    <tr>\n",
       "      <th>2</th>\n",
       "      <td>K1U9M2PVF</td>\n",
       "      <td>1SMS0A4N5G</td>\n",
       "    </tr>\n",
       "    <tr>\n",
       "      <th>3</th>\n",
       "      <td>K1U9M2PVF</td>\n",
       "      <td>1BROMSHRRA</td>\n",
       "    </tr>\n",
       "    <tr>\n",
       "      <th>4</th>\n",
       "      <td>K1U9M2PVF</td>\n",
       "      <td>520QV3Q8S</td>\n",
       "    </tr>\n",
       "  </tbody>\n",
       "</table>\n",
       "</div>"
      ],
      "text/plain": [
       "  unit_test_sequence_id in_unit_sequence_id\n",
       "0             K1U9M2PVF          1XEPEYCPC3\n",
       "1             K1U9M2PVF          20SXJMMSRG\n",
       "2             K1U9M2PVF          1SMS0A4N5G\n",
       "3             K1U9M2PVF          1BROMSHRRA\n",
       "4             K1U9M2PVF           520QV3Q8S"
      ]
     },
     "execution_count": 9,
     "metadata": {},
     "output_type": "execute_result"
    }
   ],
   "source": [
    "sequence_relationships = utils.read_sequence_relationships()\n",
    "print(len(sequence_relationships))\n",
    "sequence_relationships.head()  # len=12564"
   ]
  },
  {
   "cell_type": "markdown",
   "metadata": {},
   "source": [
    "### Sequence Details\n",
    "\n",
    "We restrict the sequence details to those sequences that have been worked on in `action_logs` or `unit_test_scores`, that is, to those sequences that appear in `assignment_details_rest`."
   ]
  },
  {
   "cell_type": "code",
   "execution_count": 10,
   "metadata": {},
   "outputs": [
    {
     "name": "stdout",
     "output_type": "stream",
     "text": [
      "10774\n"
     ]
    },
    {
     "data": {
      "text/html": [
       "<div>\n",
       "<style scoped>\n",
       "    .dataframe tbody tr th:only-of-type {\n",
       "        vertical-align: middle;\n",
       "    }\n",
       "\n",
       "    .dataframe tbody tr th {\n",
       "        vertical-align: top;\n",
       "    }\n",
       "\n",
       "    .dataframe thead th {\n",
       "        text-align: right;\n",
       "    }\n",
       "</style>\n",
       "<table border=\"1\" class=\"dataframe\">\n",
       "  <thead>\n",
       "    <tr style=\"text-align: right;\">\n",
       "      <th></th>\n",
       "      <th>sequence_id</th>\n",
       "      <th>sequence_folder_path_level_1</th>\n",
       "      <th>sequence_folder_path_level_2</th>\n",
       "      <th>sequence_folder_path_level_3</th>\n",
       "      <th>sequence_folder_path_level_4</th>\n",
       "      <th>sequence_folder_path_level_5</th>\n",
       "      <th>sequence_name</th>\n",
       "      <th>sequence_problem_ids</th>\n",
       "    </tr>\n",
       "  </thead>\n",
       "  <tbody>\n",
       "    <tr>\n",
       "      <th>0</th>\n",
       "      <td>K1U9M2PVF</td>\n",
       "      <td>EngageNY/Eureka Math (© by Great Minds®) *</td>\n",
       "      <td>Algebra I</td>\n",
       "      <td>Module 1 - Relationships Between Quantities an...</td>\n",
       "      <td>Module 1---Assessments</td>\n",
       "      <td>NaN</td>\n",
       "      <td>End-of-Module---Alg 1.1 End-of-Module Assessment</td>\n",
       "      <td>[AQ0ZKSP6D, 2KTD380L98, 7CPDNFDLD, 2F9VV7RVWU,...</td>\n",
       "    </tr>\n",
       "    <tr>\n",
       "      <th>1</th>\n",
       "      <td>1XEPEYCPC3</td>\n",
       "      <td>EngageNY/Eureka Math (© by Great Minds®) *</td>\n",
       "      <td>Algebra I</td>\n",
       "      <td>Module 1 - Relationships Between Quantities an...</td>\n",
       "      <td>Module 1---Assessments</td>\n",
       "      <td>NaN</td>\n",
       "      <td>Mid-Module---Alg1.1 Mid-Module Assessment</td>\n",
       "      <td>[WS70M9DP1, 13HDHY5VMI, 24WQMJBRDX, 1IFT888E81...</td>\n",
       "    </tr>\n",
       "    <tr>\n",
       "      <th>2</th>\n",
       "      <td>20SXJMMSRG</td>\n",
       "      <td>EngageNY/Eureka Math (© by Great Minds®) *</td>\n",
       "      <td>Algebra I</td>\n",
       "      <td>Module 1 - Relationships Between Quantities an...</td>\n",
       "      <td>Topic A---Lesson 1: Graphs of Piecewise Linear...</td>\n",
       "      <td>NaN</td>\n",
       "      <td>Problem Set---Algebra I, M1, Lesson 1 (N.Q.A.1...</td>\n",
       "      <td>[1D3AXDDMQ9, 2HVIXDM2L5, 1I9N9TMSO6, 182WSU48H...</td>\n",
       "    </tr>\n",
       "    <tr>\n",
       "      <th>3</th>\n",
       "      <td>1SMS0A4N5G</td>\n",
       "      <td>EngageNY/Eureka Math (© by Great Minds®) *</td>\n",
       "      <td>Algebra I</td>\n",
       "      <td>Module 1 - Relationships Between Quantities an...</td>\n",
       "      <td>Topic A---Lesson 2: Graphs of Quadratic Functions</td>\n",
       "      <td>NaN</td>\n",
       "      <td>Classwork---Algebra I, M1, Lesson 2 (N.Q.A.1, ...</td>\n",
       "      <td>[1X69IIUXB1, E083MYD2P]</td>\n",
       "    </tr>\n",
       "    <tr>\n",
       "      <th>4</th>\n",
       "      <td>1BROMSHRRA</td>\n",
       "      <td>EngageNY/Eureka Math (© by Great Minds®) *</td>\n",
       "      <td>Algebra I</td>\n",
       "      <td>Module 1 - Relationships Between Quantities an...</td>\n",
       "      <td>Topic A---Lesson 2: Graphs of Quadratic Functions</td>\n",
       "      <td>NaN</td>\n",
       "      <td>Exit Ticket---Algebra 1, M1, Lesson 2 (N.Q.1, ...</td>\n",
       "      <td>[2BLJ83JUIM]</td>\n",
       "    </tr>\n",
       "  </tbody>\n",
       "</table>\n",
       "</div>"
      ],
      "text/plain": [
       "  sequence_id                sequence_folder_path_level_1  \\\n",
       "0   K1U9M2PVF  EngageNY/Eureka Math (© by Great Minds®) *   \n",
       "1  1XEPEYCPC3  EngageNY/Eureka Math (© by Great Minds®) *   \n",
       "2  20SXJMMSRG  EngageNY/Eureka Math (© by Great Minds®) *   \n",
       "3  1SMS0A4N5G  EngageNY/Eureka Math (© by Great Minds®) *   \n",
       "4  1BROMSHRRA  EngageNY/Eureka Math (© by Great Minds®) *   \n",
       "\n",
       "  sequence_folder_path_level_2  \\\n",
       "0                    Algebra I   \n",
       "1                    Algebra I   \n",
       "2                    Algebra I   \n",
       "3                    Algebra I   \n",
       "4                    Algebra I   \n",
       "\n",
       "                        sequence_folder_path_level_3  \\\n",
       "0  Module 1 - Relationships Between Quantities an...   \n",
       "1  Module 1 - Relationships Between Quantities an...   \n",
       "2  Module 1 - Relationships Between Quantities an...   \n",
       "3  Module 1 - Relationships Between Quantities an...   \n",
       "4  Module 1 - Relationships Between Quantities an...   \n",
       "\n",
       "                        sequence_folder_path_level_4  \\\n",
       "0                             Module 1---Assessments   \n",
       "1                             Module 1---Assessments   \n",
       "2  Topic A---Lesson 1: Graphs of Piecewise Linear...   \n",
       "3  Topic A---Lesson 2: Graphs of Quadratic Functions   \n",
       "4  Topic A---Lesson 2: Graphs of Quadratic Functions   \n",
       "\n",
       "  sequence_folder_path_level_5  \\\n",
       "0                          NaN   \n",
       "1                          NaN   \n",
       "2                          NaN   \n",
       "3                          NaN   \n",
       "4                          NaN   \n",
       "\n",
       "                                       sequence_name  \\\n",
       "0   End-of-Module---Alg 1.1 End-of-Module Assessment   \n",
       "1          Mid-Module---Alg1.1 Mid-Module Assessment   \n",
       "2  Problem Set---Algebra I, M1, Lesson 1 (N.Q.A.1...   \n",
       "3  Classwork---Algebra I, M1, Lesson 2 (N.Q.A.1, ...   \n",
       "4  Exit Ticket---Algebra 1, M1, Lesson 2 (N.Q.1, ...   \n",
       "\n",
       "                                sequence_problem_ids  \n",
       "0  [AQ0ZKSP6D, 2KTD380L98, 7CPDNFDLD, 2F9VV7RVWU,...  \n",
       "1  [WS70M9DP1, 13HDHY5VMI, 24WQMJBRDX, 1IFT888E81...  \n",
       "2  [1D3AXDDMQ9, 2HVIXDM2L5, 1I9N9TMSO6, 182WSU48H...  \n",
       "3                            [1X69IIUXB1, E083MYD2P]  \n",
       "4                                       [2BLJ83JUIM]  "
      ]
     },
     "execution_count": 10,
     "metadata": {},
     "output_type": "execute_result"
    }
   ],
   "source": [
    "sequence_details = utils.read_sequence_details()\n",
    "print(len(sequence_details))  # 10774\n",
    "sequence_details.head()"
   ]
  },
  {
   "cell_type": "code",
   "execution_count": 11,
   "metadata": {},
   "outputs": [
    {
     "data": {
      "text/plain": [
       "(5416, 5514)"
      ]
     },
     "execution_count": 11,
     "metadata": {},
     "output_type": "execute_result"
    }
   ],
   "source": [
    "seq_ids = assignment_details_rest[\"sequence_id\"].unique()\n",
    "sequence_details_rest = sequence_details.loc[sequence_details[\"sequence_id\"].isin(seq_ids)].copy()\n",
    "len(seq_ids), len(sequence_details_rest)  # 5416, 5514"
   ]
  },
  {
   "cell_type": "markdown",
   "metadata": {},
   "source": [
    "### Problem Details\n",
    "\n",
    "Important note: There are some problems that appear in `action_logs` and `unit_test_scores` but not in `problem_details`. This is described in the data description: \"This file contains one row for every problem referenced in the dataset, except for some problems in the action logs, which have been deleted from the database. These problems likely had errors during their original transcription into ASSISTments that were corrected, but no record of the original problems was kept.\"\n",
    "\n",
    "We restrict the problem details to those problems that appear in `action_logs` or `unit_test_scores`."
   ]
  },
  {
   "cell_type": "code",
   "execution_count": 12,
   "metadata": {},
   "outputs": [
    {
     "name": "stdout",
     "output_type": "stream",
     "text": [
      "132738\n"
     ]
    },
    {
     "data": {
      "text/html": [
       "<div>\n",
       "<style scoped>\n",
       "    .dataframe tbody tr th:only-of-type {\n",
       "        vertical-align: middle;\n",
       "    }\n",
       "\n",
       "    .dataframe tbody tr th {\n",
       "        vertical-align: top;\n",
       "    }\n",
       "\n",
       "    .dataframe thead th {\n",
       "        text-align: right;\n",
       "    }\n",
       "</style>\n",
       "<table border=\"1\" class=\"dataframe\">\n",
       "  <thead>\n",
       "    <tr style=\"text-align: right;\">\n",
       "      <th></th>\n",
       "      <th>problem_multipart_id</th>\n",
       "      <th>problem_multipart_position</th>\n",
       "      <th>problem_type</th>\n",
       "      <th>problem_skill_code</th>\n",
       "      <th>problem_skill_description</th>\n",
       "      <th>problem_contains_image</th>\n",
       "      <th>problem_contains_equation</th>\n",
       "      <th>problem_contains_video</th>\n",
       "      <th>problem_text_bert_pca</th>\n",
       "    </tr>\n",
       "    <tr>\n",
       "      <th>problem_id</th>\n",
       "      <th></th>\n",
       "      <th></th>\n",
       "      <th></th>\n",
       "      <th></th>\n",
       "      <th></th>\n",
       "      <th></th>\n",
       "      <th></th>\n",
       "      <th></th>\n",
       "      <th></th>\n",
       "    </tr>\n",
       "  </thead>\n",
       "  <tbody>\n",
       "    <tr>\n",
       "      <th>10MFND3HAJ</th>\n",
       "      <td>2MHCTW1IIN</td>\n",
       "      <td>1</td>\n",
       "      <td>Multiple Choice</td>\n",
       "      <td>6.RP.A.3b</td>\n",
       "      <td>Unit Rate</td>\n",
       "      <td>0.0</td>\n",
       "      <td>0.0</td>\n",
       "      <td>1.0</td>\n",
       "      <td>[0.53955209, -0.96322744, 0.49725574, 6.287953...</td>\n",
       "    </tr>\n",
       "    <tr>\n",
       "      <th>IH3MOE7AF</th>\n",
       "      <td>1UEQMXOOFA</td>\n",
       "      <td>1</td>\n",
       "      <td>Multiple Choice</td>\n",
       "      <td>6.RP.A.3b</td>\n",
       "      <td>Unit Rate</td>\n",
       "      <td>0.0</td>\n",
       "      <td>0.0</td>\n",
       "      <td>0.0</td>\n",
       "      <td>[-1.61147666, -1.50911536, 0.52055446, 6.01118...</td>\n",
       "    </tr>\n",
       "    <tr>\n",
       "      <th>14YC7CEE2N</th>\n",
       "      <td>1UEQMXOOFA</td>\n",
       "      <td>2</td>\n",
       "      <td>Ungraded Open Response</td>\n",
       "      <td>6.RP.A.3b</td>\n",
       "      <td>Unit Rate</td>\n",
       "      <td>0.0</td>\n",
       "      <td>0.0</td>\n",
       "      <td>0.0</td>\n",
       "      <td>[-8.95361845, 5.26005410, -4.41350451, -2.6751...</td>\n",
       "    </tr>\n",
       "    <tr>\n",
       "      <th>16L5KQWLN7</th>\n",
       "      <td>1W7DRPNEJL</td>\n",
       "      <td>1</td>\n",
       "      <td>Ungraded Open Response</td>\n",
       "      <td>6.RP.A.3b</td>\n",
       "      <td>Unit Rate</td>\n",
       "      <td>0.0</td>\n",
       "      <td>0.0</td>\n",
       "      <td>0.0</td>\n",
       "      <td>[-2.89295465, 1.73222701, -0.21075635, 0.16314...</td>\n",
       "    </tr>\n",
       "    <tr>\n",
       "      <th>BU0LO0LDD</th>\n",
       "      <td>1Z6MGLD8VK</td>\n",
       "      <td>1</td>\n",
       "      <td>Ungraded Open Response</td>\n",
       "      <td>6.RP.A.3b</td>\n",
       "      <td>Unit Rate</td>\n",
       "      <td>0.0</td>\n",
       "      <td>0.0</td>\n",
       "      <td>0.0</td>\n",
       "      <td>[-1.53959700, 1.35386494, -1.56874727, 0.89545...</td>\n",
       "    </tr>\n",
       "  </tbody>\n",
       "</table>\n",
       "</div>"
      ],
      "text/plain": [
       "           problem_multipart_id  problem_multipart_position  \\\n",
       "problem_id                                                    \n",
       "10MFND3HAJ           2MHCTW1IIN                           1   \n",
       "IH3MOE7AF            1UEQMXOOFA                           1   \n",
       "14YC7CEE2N           1UEQMXOOFA                           2   \n",
       "16L5KQWLN7           1W7DRPNEJL                           1   \n",
       "BU0LO0LDD            1Z6MGLD8VK                           1   \n",
       "\n",
       "                      problem_type problem_skill_code  \\\n",
       "problem_id                                              \n",
       "10MFND3HAJ         Multiple Choice          6.RP.A.3b   \n",
       "IH3MOE7AF          Multiple Choice          6.RP.A.3b   \n",
       "14YC7CEE2N  Ungraded Open Response          6.RP.A.3b   \n",
       "16L5KQWLN7  Ungraded Open Response          6.RP.A.3b   \n",
       "BU0LO0LDD   Ungraded Open Response          6.RP.A.3b   \n",
       "\n",
       "           problem_skill_description  problem_contains_image  \\\n",
       "problem_id                                                     \n",
       "10MFND3HAJ                 Unit Rate                     0.0   \n",
       "IH3MOE7AF                  Unit Rate                     0.0   \n",
       "14YC7CEE2N                 Unit Rate                     0.0   \n",
       "16L5KQWLN7                 Unit Rate                     0.0   \n",
       "BU0LO0LDD                  Unit Rate                     0.0   \n",
       "\n",
       "            problem_contains_equation  problem_contains_video  \\\n",
       "problem_id                                                      \n",
       "10MFND3HAJ                        0.0                     1.0   \n",
       "IH3MOE7AF                         0.0                     0.0   \n",
       "14YC7CEE2N                        0.0                     0.0   \n",
       "16L5KQWLN7                        0.0                     0.0   \n",
       "BU0LO0LDD                         0.0                     0.0   \n",
       "\n",
       "                                        problem_text_bert_pca  \n",
       "problem_id                                                     \n",
       "10MFND3HAJ  [0.53955209, -0.96322744, 0.49725574, 6.287953...  \n",
       "IH3MOE7AF   [-1.61147666, -1.50911536, 0.52055446, 6.01118...  \n",
       "14YC7CEE2N  [-8.95361845, 5.26005410, -4.41350451, -2.6751...  \n",
       "16L5KQWLN7  [-2.89295465, 1.73222701, -0.21075635, 0.16314...  \n",
       "BU0LO0LDD   [-1.53959700, 1.35386494, -1.56874727, 0.89545...  "
      ]
     },
     "execution_count": 12,
     "metadata": {},
     "output_type": "execute_result"
    }
   ],
   "source": [
    "problem_details = utils.read_problem_details()\n",
    "print(len(problem_details))  # 132738\n",
    "problem_details.head()"
   ]
  },
  {
   "cell_type": "code",
   "execution_count": 13,
   "metadata": {},
   "outputs": [
    {
     "data": {
      "text/plain": [
       "(57361, 1835, 59171)"
      ]
     },
     "execution_count": 13,
     "metadata": {},
     "output_type": "execute_result"
    }
   ],
   "source": [
    "prob_ids_al = set(action_logs[\"problem_id\"])\n",
    "prob_ids_uts = set(unit_test_scores[\"problem_id\"])\n",
    "prob_ids = prob_ids_al | prob_ids_uts\n",
    "len(prob_ids_al), len(prob_ids_uts), len(prob_ids)  # 57361, 1835, 59171"
   ]
  },
  {
   "cell_type": "markdown",
   "metadata": {},
   "source": [
    "There are problems that appear in both unit test and in unit sequences/assignments."
   ]
  },
  {
   "cell_type": "code",
   "execution_count": 14,
   "metadata": {},
   "outputs": [
    {
     "data": {
      "text/plain": [
       "58203"
      ]
     },
     "execution_count": 14,
     "metadata": {},
     "output_type": "execute_result"
    }
   ],
   "source": [
    "prob_ids_pd = set(problem_details.index)\n",
    "prob_ids = prob_ids & prob_ids_pd\n",
    "len(prob_ids)  # 58203"
   ]
  },
  {
   "cell_type": "code",
   "execution_count": 15,
   "metadata": {},
   "outputs": [
    {
     "data": {
      "text/plain": [
       "58203"
      ]
     },
     "execution_count": 15,
     "metadata": {},
     "output_type": "execute_result"
    }
   ],
   "source": [
    "problem_details_rest = problem_details.loc[list(prob_ids)].copy()\n",
    "len(problem_details_rest)  # 58203"
   ]
  },
  {
   "cell_type": "markdown",
   "metadata": {},
   "source": [
    "### Save restricted files"
   ]
  },
  {
   "cell_type": "code",
   "execution_count": 16,
   "metadata": {},
   "outputs": [],
   "source": [
    "#utils.save_as_csv(assignment_details_rest, \"assignment_details_rest.csv\", save_idx=True)\n",
    "#utils.save_as_csv(sequence_details_rest, \"sequence_details_rest.csv\", save_idx=False)\n",
    "#utils.save_as_csv(problem_details_rest, \"problem_details_rest.csv\", save_idx=True)"
   ]
  },
  {
   "cell_type": "markdown",
   "metadata": {},
   "source": [
    "### Restriction as Function"
   ]
  },
  {
   "cell_type": "code",
   "execution_count": 17,
   "metadata": {},
   "outputs": [],
   "source": [
    "(\n",
    "    action_logs_orig,\n",
    "    unit_test_scores_orig,\n",
    "    assignment_relationships_orig,\n",
    "    assignment_details_orig,\n",
    "    sequence_relationships_orig,\n",
    "    sequence_details_orig,\n",
    "    problem_details_orig\n",
    ") = utils.load_all_data()"
   ]
  },
  {
   "cell_type": "code",
   "execution_count": 18,
   "metadata": {},
   "outputs": [],
   "source": [
    "(\n",
    "    assignment_details,\n",
    "    sequence_details,\n",
    "    problem_details,\n",
    ") = restrict_data.restrict_details_to_available_assignments(\n",
    "    action_logs_orig,\n",
    "    unit_test_scores_orig,\n",
    "    assignment_details_orig,\n",
    "    sequence_details_orig,\n",
    "    problem_details_orig,\n",
    ")"
   ]
  },
  {
   "cell_type": "code",
   "execution_count": 19,
   "metadata": {},
   "outputs": [
    {
     "data": {
      "text/plain": [
       "(680871, 5514, 58203)"
      ]
     },
     "execution_count": 19,
     "metadata": {},
     "output_type": "execute_result"
    }
   ],
   "source": [
    "len(assignment_details), len(sequence_details), len(problem_details)  # 680871, 5514, 58203"
   ]
  },
  {
   "cell_type": "code",
   "execution_count": null,
   "metadata": {},
   "outputs": [],
   "source": []
  }
 ],
 "metadata": {
  "kernelspec": {
   "display_name": ".venv",
   "language": "python",
   "name": "python3"
  },
  "language_info": {
   "codemirror_mode": {
    "name": "ipython",
    "version": 3
   },
   "file_extension": ".py",
   "mimetype": "text/x-python",
   "name": "python",
   "nbconvert_exporter": "python",
   "pygments_lexer": "ipython3",
   "version": "3.11.5"
  }
 },
 "nbformat": 4,
 "nbformat_minor": 2
}
