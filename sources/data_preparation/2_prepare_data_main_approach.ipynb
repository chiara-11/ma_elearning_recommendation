{
 "cells": [
  {
   "cell_type": "markdown",
   "metadata": {},
   "source": [
    "# Prepare final data for main approach\n",
    "\n",
    "This notebook follows the notebook `1_prepare_data_general.ipynb` and continues with the data preparation according to Subsection 4.4.3\n",
    "\n",
    "`1_prepare_data_general.ipynb` stopped after the first to steps described in \"Restricting Sequences, Students and Classes\". This is where the notebook begins.\n",
    "\n",
    "This notebook creates the dataset `final_data_main_approach.csv` and stores it in the `data` folder. This is the data set used for the predictions."
   ]
  },
  {
   "cell_type": "code",
   "execution_count": 1,
   "metadata": {},
   "outputs": [
    {
     "name": "stderr",
     "output_type": "stream",
     "text": [
      "C:\\Users\\Chiara\\AppData\\Local\\Temp\\ipykernel_14024\\3845850337.py:4: DeprecationWarning: \n",
      "Pyarrow will become a required dependency of pandas in the next major release of pandas (pandas 3.0),\n",
      "(to allow more performant data types, such as the Arrow string type, and better interoperability with other libraries)\n",
      "but was not found to be installed on your system.\n",
      "If this would cause problems for you,\n",
      "please provide us feedback at https://github.com/pandas-dev/pandas/issues/54466\n",
      "        \n",
      "  import pandas as pd\n",
      "c:\\Users\\Chiara\\Documents\\Uni_Master_MMDS\\Masterarbeit\\elearning-recommender\\.venv\\Lib\\site-packages\\tqdm\\auto.py:21: TqdmWarning: IProgress not found. Please update jupyter and ipywidgets. See https://ipywidgets.readthedocs.io/en/stable/user_install.html\n",
      "  from .autonotebook import tqdm as notebook_tqdm\n"
     ]
    }
   ],
   "source": [
    "%load_ext autoreload\n",
    "%autoreload 2\n",
    "\n",
    "import pandas as pd\n",
    "\n",
    "import sys\n",
    "import os\n",
    "sys.path.append(os.path.abspath('../../sources'))\n",
    "\n",
    "import utils"
   ]
  },
  {
   "cell_type": "code",
   "execution_count": 2,
   "metadata": {},
   "outputs": [],
   "source": [
    "SAVE_PRIMARY_FILES = False"
   ]
  },
  {
   "cell_type": "markdown",
   "metadata": {},
   "source": [
    "### Read Data"
   ]
  },
  {
   "cell_type": "code",
   "execution_count": 3,
   "metadata": {},
   "outputs": [
    {
     "name": "stderr",
     "output_type": "stream",
     "text": [
      "c:\\Users\\Chiara\\Documents\\Uni_Master_MMDS\\Masterarbeit\\elearning-recommender\\sources\\utils.py:15: DtypeWarning: Columns (15) have mixed types. Specify dtype option on import or set low_memory=False.\n",
      "  return pd.read_csv(config.DATA_FOLDER / filename)\n"
     ]
    },
    {
     "name": "stdout",
     "output_type": "stream",
     "text": [
      "2935101\n"
     ]
    },
    {
     "data": {
      "text/html": [
       "<div>\n",
       "<style scoped>\n",
       "    .dataframe tbody tr th:only-of-type {\n",
       "        vertical-align: middle;\n",
       "    }\n",
       "\n",
       "    .dataframe tbody tr th {\n",
       "        vertical-align: top;\n",
       "    }\n",
       "\n",
       "    .dataframe thead th {\n",
       "        text-align: right;\n",
       "    }\n",
       "</style>\n",
       "<table border=\"1\" class=\"dataframe\">\n",
       "  <thead>\n",
       "    <tr style=\"text-align: right;\">\n",
       "      <th></th>\n",
       "      <th>assignment_log_id</th>\n",
       "      <th>problem_id</th>\n",
       "      <th>timestamp</th>\n",
       "      <th>available_core_tutoring</th>\n",
       "      <th>actions</th>\n",
       "      <th>num_actions</th>\n",
       "      <th>first_answer</th>\n",
       "      <th>num_tries</th>\n",
       "      <th>final_answer</th>\n",
       "      <th>help_requested</th>\n",
       "      <th>...</th>\n",
       "      <th>hint_requested</th>\n",
       "      <th>live_tutor_requested</th>\n",
       "      <th>hint_id</th>\n",
       "      <th>explanation_id</th>\n",
       "      <th>sequence_id</th>\n",
       "      <th>student_id</th>\n",
       "      <th>class_id</th>\n",
       "      <th>teacher_id</th>\n",
       "      <th>assignment_finished</th>\n",
       "      <th>unit_test</th>\n",
       "    </tr>\n",
       "  </thead>\n",
       "  <tbody>\n",
       "    <tr>\n",
       "      <th>0</th>\n",
       "      <td>12LNLV9T5P</td>\n",
       "      <td>2MZER0YXHT</td>\n",
       "      <td>1.587658e+09</td>\n",
       "      <td>answer</td>\n",
       "      <td>['problem_started', 'correct_response', 'probl...</td>\n",
       "      <td>3.0</td>\n",
       "      <td>1</td>\n",
       "      <td>1.0</td>\n",
       "      <td>1.0</td>\n",
       "      <td>0.0</td>\n",
       "      <td>...</td>\n",
       "      <td>0.0</td>\n",
       "      <td>0.0</td>\n",
       "      <td>NaN</td>\n",
       "      <td>NaN</td>\n",
       "      <td>27GEL3MV6E</td>\n",
       "      <td>125OTT0E74</td>\n",
       "      <td>100VH25818</td>\n",
       "      <td>WOOQUZY13</td>\n",
       "      <td>1.0</td>\n",
       "      <td>0</td>\n",
       "    </tr>\n",
       "    <tr>\n",
       "      <th>1</th>\n",
       "      <td>XJMWRTN1F</td>\n",
       "      <td>SXFPGQ0Z7</td>\n",
       "      <td>1.587658e+09</td>\n",
       "      <td>answer</td>\n",
       "      <td>['problem_started', 'correct_response', 'probl...</td>\n",
       "      <td>3.0</td>\n",
       "      <td>1</td>\n",
       "      <td>1.0</td>\n",
       "      <td>1.0</td>\n",
       "      <td>0.0</td>\n",
       "      <td>...</td>\n",
       "      <td>0.0</td>\n",
       "      <td>0.0</td>\n",
       "      <td>NaN</td>\n",
       "      <td>NaN</td>\n",
       "      <td>1DHG1UNJ8Q</td>\n",
       "      <td>125OTT0E74</td>\n",
       "      <td>100VH25818</td>\n",
       "      <td>WOOQUZY13</td>\n",
       "      <td>1.0</td>\n",
       "      <td>0</td>\n",
       "    </tr>\n",
       "    <tr>\n",
       "      <th>2</th>\n",
       "      <td>XJMWRTN1F</td>\n",
       "      <td>C4U09P1SM</td>\n",
       "      <td>1.587658e+09</td>\n",
       "      <td>answer</td>\n",
       "      <td>['problem_started', 'correct_response', 'probl...</td>\n",
       "      <td>3.0</td>\n",
       "      <td>1</td>\n",
       "      <td>1.0</td>\n",
       "      <td>1.0</td>\n",
       "      <td>0.0</td>\n",
       "      <td>...</td>\n",
       "      <td>0.0</td>\n",
       "      <td>0.0</td>\n",
       "      <td>NaN</td>\n",
       "      <td>NaN</td>\n",
       "      <td>1DHG1UNJ8Q</td>\n",
       "      <td>125OTT0E74</td>\n",
       "      <td>100VH25818</td>\n",
       "      <td>WOOQUZY13</td>\n",
       "      <td>1.0</td>\n",
       "      <td>0</td>\n",
       "    </tr>\n",
       "    <tr>\n",
       "      <th>3</th>\n",
       "      <td>XJMWRTN1F</td>\n",
       "      <td>1Q6NCCELIN</td>\n",
       "      <td>1.587658e+09</td>\n",
       "      <td>answer</td>\n",
       "      <td>['problem_started', 'correct_response', 'probl...</td>\n",
       "      <td>3.0</td>\n",
       "      <td>1</td>\n",
       "      <td>1.0</td>\n",
       "      <td>1.0</td>\n",
       "      <td>0.0</td>\n",
       "      <td>...</td>\n",
       "      <td>0.0</td>\n",
       "      <td>0.0</td>\n",
       "      <td>NaN</td>\n",
       "      <td>NaN</td>\n",
       "      <td>1DHG1UNJ8Q</td>\n",
       "      <td>125OTT0E74</td>\n",
       "      <td>100VH25818</td>\n",
       "      <td>WOOQUZY13</td>\n",
       "      <td>1.0</td>\n",
       "      <td>0</td>\n",
       "    </tr>\n",
       "    <tr>\n",
       "      <th>4</th>\n",
       "      <td>XJMWRTN1F</td>\n",
       "      <td>36DSFWGZG</td>\n",
       "      <td>1.587659e+09</td>\n",
       "      <td>no_tutoring</td>\n",
       "      <td>['problem_started', 'correct_response', 'probl...</td>\n",
       "      <td>3.0</td>\n",
       "      <td>1</td>\n",
       "      <td>1.0</td>\n",
       "      <td>1.0</td>\n",
       "      <td>0.0</td>\n",
       "      <td>...</td>\n",
       "      <td>0.0</td>\n",
       "      <td>0.0</td>\n",
       "      <td>NaN</td>\n",
       "      <td>NaN</td>\n",
       "      <td>1DHG1UNJ8Q</td>\n",
       "      <td>125OTT0E74</td>\n",
       "      <td>100VH25818</td>\n",
       "      <td>WOOQUZY13</td>\n",
       "      <td>1.0</td>\n",
       "      <td>0</td>\n",
       "    </tr>\n",
       "  </tbody>\n",
       "</table>\n",
       "<p>5 rows × 22 columns</p>\n",
       "</div>"
      ],
      "text/plain": [
       "  assignment_log_id  problem_id     timestamp available_core_tutoring  \\\n",
       "0        12LNLV9T5P  2MZER0YXHT  1.587658e+09                  answer   \n",
       "1         XJMWRTN1F   SXFPGQ0Z7  1.587658e+09                  answer   \n",
       "2         XJMWRTN1F   C4U09P1SM  1.587658e+09                  answer   \n",
       "3         XJMWRTN1F  1Q6NCCELIN  1.587658e+09                  answer   \n",
       "4         XJMWRTN1F   36DSFWGZG  1.587659e+09             no_tutoring   \n",
       "\n",
       "                                             actions  num_actions  \\\n",
       "0  ['problem_started', 'correct_response', 'probl...          3.0   \n",
       "1  ['problem_started', 'correct_response', 'probl...          3.0   \n",
       "2  ['problem_started', 'correct_response', 'probl...          3.0   \n",
       "3  ['problem_started', 'correct_response', 'probl...          3.0   \n",
       "4  ['problem_started', 'correct_response', 'probl...          3.0   \n",
       "\n",
       "   first_answer  num_tries  final_answer  help_requested  ...  hint_requested  \\\n",
       "0             1        1.0           1.0             0.0  ...             0.0   \n",
       "1             1        1.0           1.0             0.0  ...             0.0   \n",
       "2             1        1.0           1.0             0.0  ...             0.0   \n",
       "3             1        1.0           1.0             0.0  ...             0.0   \n",
       "4             1        1.0           1.0             0.0  ...             0.0   \n",
       "\n",
       "   live_tutor_requested  hint_id  explanation_id sequence_id  student_id  \\\n",
       "0                   0.0      NaN             NaN  27GEL3MV6E  125OTT0E74   \n",
       "1                   0.0      NaN             NaN  1DHG1UNJ8Q  125OTT0E74   \n",
       "2                   0.0      NaN             NaN  1DHG1UNJ8Q  125OTT0E74   \n",
       "3                   0.0      NaN             NaN  1DHG1UNJ8Q  125OTT0E74   \n",
       "4                   0.0      NaN             NaN  1DHG1UNJ8Q  125OTT0E74   \n",
       "\n",
       "     class_id teacher_id assignment_finished unit_test  \n",
       "0  100VH25818  WOOQUZY13                 1.0         0  \n",
       "1  100VH25818  WOOQUZY13                 1.0         0  \n",
       "2  100VH25818  WOOQUZY13                 1.0         0  \n",
       "3  100VH25818  WOOQUZY13                 1.0         0  \n",
       "4  100VH25818  WOOQUZY13                 1.0         0  \n",
       "\n",
       "[5 rows x 22 columns]"
      ]
     },
     "execution_count": 3,
     "metadata": {},
     "output_type": "execute_result"
    }
   ],
   "source": [
    "df = utils.read_data_file(\"data_matrix.csv\")\n",
    "df_orig = df.copy()\n",
    "print(len(df))  # 2935101\n",
    "df.head()"
   ]
  },
  {
   "cell_type": "markdown",
   "metadata": {},
   "source": [
    "`sequence_relationships`"
   ]
  },
  {
   "cell_type": "code",
   "execution_count": 4,
   "metadata": {},
   "outputs": [
    {
     "name": "stdout",
     "output_type": "stream",
     "text": [
      "12564\n"
     ]
    },
    {
     "data": {
      "text/html": [
       "<div>\n",
       "<style scoped>\n",
       "    .dataframe tbody tr th:only-of-type {\n",
       "        vertical-align: middle;\n",
       "    }\n",
       "\n",
       "    .dataframe tbody tr th {\n",
       "        vertical-align: top;\n",
       "    }\n",
       "\n",
       "    .dataframe thead th {\n",
       "        text-align: right;\n",
       "    }\n",
       "</style>\n",
       "<table border=\"1\" class=\"dataframe\">\n",
       "  <thead>\n",
       "    <tr style=\"text-align: right;\">\n",
       "      <th></th>\n",
       "      <th>unit_test_sequence_id</th>\n",
       "      <th>in_unit_sequence_id</th>\n",
       "    </tr>\n",
       "  </thead>\n",
       "  <tbody>\n",
       "    <tr>\n",
       "      <th>0</th>\n",
       "      <td>K1U9M2PVF</td>\n",
       "      <td>1XEPEYCPC3</td>\n",
       "    </tr>\n",
       "    <tr>\n",
       "      <th>1</th>\n",
       "      <td>K1U9M2PVF</td>\n",
       "      <td>20SXJMMSRG</td>\n",
       "    </tr>\n",
       "    <tr>\n",
       "      <th>2</th>\n",
       "      <td>K1U9M2PVF</td>\n",
       "      <td>1SMS0A4N5G</td>\n",
       "    </tr>\n",
       "    <tr>\n",
       "      <th>3</th>\n",
       "      <td>K1U9M2PVF</td>\n",
       "      <td>1BROMSHRRA</td>\n",
       "    </tr>\n",
       "    <tr>\n",
       "      <th>4</th>\n",
       "      <td>K1U9M2PVF</td>\n",
       "      <td>520QV3Q8S</td>\n",
       "    </tr>\n",
       "  </tbody>\n",
       "</table>\n",
       "</div>"
      ],
      "text/plain": [
       "  unit_test_sequence_id in_unit_sequence_id\n",
       "0             K1U9M2PVF          1XEPEYCPC3\n",
       "1             K1U9M2PVF          20SXJMMSRG\n",
       "2             K1U9M2PVF          1SMS0A4N5G\n",
       "3             K1U9M2PVF          1BROMSHRRA\n",
       "4             K1U9M2PVF           520QV3Q8S"
      ]
     },
     "execution_count": 4,
     "metadata": {},
     "output_type": "execute_result"
    }
   ],
   "source": [
    "sequence_relationships = utils.read_sequence_relationships()\n",
    "print(len(sequence_relationships))  # 12564\n",
    "sequence_relationships.head()"
   ]
  },
  {
   "cell_type": "code",
   "execution_count": 5,
   "metadata": {},
   "outputs": [
    {
     "name": "stdout",
     "output_type": "stream",
     "text": [
      "240 151 151\n",
      "9186 4121 4121\n",
      "set() set()\n"
     ]
    }
   ],
   "source": [
    "seq_test_ids = set(sequence_relationships[\"unit_test_sequence_id\"])\n",
    "seq_in_unit_ids = set(sequence_relationships[\"in_unit_sequence_id\"])\n",
    "\n",
    "df_seq_test_ids = set(df.loc[df[\"unit_test\"] == 1, \"sequence_id\"])\n",
    "df_seq_in_unit_ids = set(df.loc[df[\"unit_test\"] == 0, \"sequence_id\"])\n",
    "\n",
    "# all test ids in data_matrix are present in sequence_relationships\n",
    "print(len(seq_test_ids), len(df_seq_test_ids), len(seq_test_ids & df_seq_test_ids))  # 240 151 151\n",
    "# all in unit ids in data_matrix are present in sequence_relationships\n",
    "print(len(seq_in_unit_ids), len(df_seq_in_unit_ids), len(seq_in_unit_ids & df_seq_in_unit_ids))  # 9186 4121 4121\n",
    "# in unit ids and test ids don't overlap\n",
    "print(seq_test_ids & df_seq_in_unit_ids, seq_in_unit_ids & df_seq_test_ids)  # set() set()"
   ]
  },
  {
   "cell_type": "markdown",
   "metadata": {},
   "source": [
    "`assingment_relationships`"
   ]
  },
  {
   "cell_type": "code",
   "execution_count": 6,
   "metadata": {},
   "outputs": [
    {
     "name": "stdout",
     "output_type": "stream",
     "text": [
      "699839\n"
     ]
    },
    {
     "data": {
      "text/html": [
       "<div>\n",
       "<style scoped>\n",
       "    .dataframe tbody tr th:only-of-type {\n",
       "        vertical-align: middle;\n",
       "    }\n",
       "\n",
       "    .dataframe tbody tr th {\n",
       "        vertical-align: top;\n",
       "    }\n",
       "\n",
       "    .dataframe thead th {\n",
       "        text-align: right;\n",
       "    }\n",
       "</style>\n",
       "<table border=\"1\" class=\"dataframe\">\n",
       "  <thead>\n",
       "    <tr style=\"text-align: right;\">\n",
       "      <th></th>\n",
       "      <th>ut_id</th>\n",
       "      <th>iu_id</th>\n",
       "    </tr>\n",
       "  </thead>\n",
       "  <tbody>\n",
       "    <tr>\n",
       "      <th>0</th>\n",
       "      <td>7FGC8P0F1</td>\n",
       "      <td>V6YXT3UG</td>\n",
       "    </tr>\n",
       "    <tr>\n",
       "      <th>1</th>\n",
       "      <td>15KQFID5U5</td>\n",
       "      <td>1TFFYMT814</td>\n",
       "    </tr>\n",
       "    <tr>\n",
       "      <th>2</th>\n",
       "      <td>QKDRPCXSG</td>\n",
       "      <td>1N2IFGUASM</td>\n",
       "    </tr>\n",
       "    <tr>\n",
       "      <th>3</th>\n",
       "      <td>1JOJIQXU1B</td>\n",
       "      <td>15W4ET3W62</td>\n",
       "    </tr>\n",
       "    <tr>\n",
       "      <th>4</th>\n",
       "      <td>2C9YZRVZT0</td>\n",
       "      <td>1WORTY787C</td>\n",
       "    </tr>\n",
       "  </tbody>\n",
       "</table>\n",
       "</div>"
      ],
      "text/plain": [
       "        ut_id       iu_id\n",
       "0   7FGC8P0F1    V6YXT3UG\n",
       "1  15KQFID5U5  1TFFYMT814\n",
       "2   QKDRPCXSG  1N2IFGUASM\n",
       "3  1JOJIQXU1B  15W4ET3W62\n",
       "4  2C9YZRVZT0  1WORTY787C"
      ]
     },
     "execution_count": 6,
     "metadata": {},
     "output_type": "execute_result"
    }
   ],
   "source": [
    "assignment_relationships = utils.read_assignment_relationships()\n",
    "assignment_relationships = assignment_relationships.rename(\n",
    "    columns={\n",
    "        \"unit_test_assignment_log_id\": \"ut_id\",\n",
    "        \"in_unit_assignment_log_id\": \"iu_id\",\n",
    "    }\n",
    ")\n",
    "print(len(assignment_relationships))  # 699839\n",
    "assignment_relationships.head()"
   ]
  },
  {
   "cell_type": "code",
   "execution_count": 7,
   "metadata": {},
   "outputs": [
    {
     "name": "stdout",
     "output_type": "stream",
     "text": [
      "56577 32052 32052\n",
      "638528 393912 393912\n",
      "set() set()\n"
     ]
    }
   ],
   "source": [
    "ass_test_ids = set(assignment_relationships[\"ut_id\"])\n",
    "ass_in_unit_ids = set(assignment_relationships[\"iu_id\"])\n",
    "\n",
    "df_ass_test_ids = set(df.loc[df[\"unit_test\"] == 1, \"assignment_log_id\"])\n",
    "df_ass_in_unit_ids = set(df.loc[df[\"unit_test\"] == 0, \"assignment_log_id\"])\n",
    "\n",
    "# all test ids in data_matrix are present in assignment_relationships\n",
    "print(len(ass_test_ids), len(df_ass_test_ids), len(ass_test_ids & df_ass_test_ids))  # 56577 32052 32052\n",
    "# all in unit ids in data_matrix are present in assignment_relationships\n",
    "print(len(ass_in_unit_ids), len(df_ass_in_unit_ids), len(ass_in_unit_ids & df_ass_in_unit_ids))\n",
    "# 638528 393912 393912\n",
    "# in unit ids and test ids don't overlap\n",
    "print(ass_test_ids & df_ass_in_unit_ids, ass_in_unit_ids & df_ass_test_ids)  # set() set()"
   ]
  },
  {
   "cell_type": "markdown",
   "metadata": {},
   "source": [
    "### Restricting Sequences, Students and Classes\n",
    "\n",
    "- Drop UT sequences that have only been completed by one class.\n",
    "- Only keep assignments for which there are corresponding IU or UT assignments.\n",
    "- Drop classes with less than 3 students.\n",
    "- Remove classes that only completed UT assignments.\n",
    "- Again, drop UT sequences that have only been completed by one class.\n",
    "- Drop IU assignments from non-relevant classes that do not correspond to any of the remaining UT assignments."
   ]
  },
  {
   "cell_type": "markdown",
   "metadata": {},
   "source": [
    "#### Drop UT sequences that have only been completed by one class.\n",
    "\n",
    "\n",
    "We will not analyze UT sequences which are only completed by one class as for those there cannot be determined a reference class. We will drop those first."
   ]
  },
  {
   "cell_type": "code",
   "execution_count": 8,
   "metadata": {},
   "outputs": [
    {
     "data": {
      "text/plain": [
       "(151, 2071)"
      ]
     },
     "execution_count": 8,
     "metadata": {},
     "output_type": "execute_result"
    }
   ],
   "source": [
    "ut_seq_complete = set(df.loc[df[\"unit_test\"] == 1, \"sequence_id\"])\n",
    "classes_complete = set(df[\"class_id\"])\n",
    "len(ut_seq_complete), len(classes_complete)  # 151, 2071"
   ]
  },
  {
   "cell_type": "markdown",
   "metadata": {},
   "source": [
    "We will keep all data for the relevant students (student which are in relevant classes) as it might be possible that there are further prediction goals for which we need more than the corresponding UT and IU assignments."
   ]
  },
  {
   "cell_type": "code",
   "execution_count": 9,
   "metadata": {},
   "outputs": [
    {
     "name": "stdout",
     "output_type": "stream",
     "text": [
      "Drop 31 test sequences as only one class worked on it\n",
      "This corresponds to 2744 records in df\n"
     ]
    }
   ],
   "source": [
    "# drop unit test sequences on which only one class worked\n",
    "num_classes_per_seq = df.loc[df[\"unit_test\"] == 1].groupby(\"sequence_id\")[\"class_id\"].nunique()\n",
    "drop_seq = num_classes_per_seq[num_classes_per_seq == 1].index\n",
    "print(f\"Drop {len(drop_seq)} test sequences as only one class worked on it\")  # 31\n",
    "old_len = len(df)\n",
    "df_rest = df.loc[~df[\"sequence_id\"].isin(drop_seq)].copy()\n",
    "print(f\"This corresponds to {old_len - len(df_rest)} records in df\")  # 2744"
   ]
  },
  {
   "cell_type": "markdown",
   "metadata": {},
   "source": [
    "#### Only keep assignments for which there are corresponding IU or UT assignments.\n",
    "\n",
    "In `assignment_relationships` it is stated, which IU assignment corresponds to which UT assignment. When applying the prediction models, we will predict the performance for the UT assignments based on the IU assignments. Therefore, we need the information from `assignment_relationships` on which IU assignments should be used.  \n",
    "Then, we will drop all IU assignments that do not belong to any of the remaining UT assignments, as well as all UT assignments that do not have any IU assignments left for prediction.\n",
    "\n",
    "To do so, we proceed as follows:\n",
    "- We restrict `assignment_relationships` to those UT assignments and IU assignments that are in `df`.\n",
    "- Then, we restrict `df` to those UT assignments and IU assignments that are left in `assignment_relationships`."
   ]
  },
  {
   "cell_type": "code",
   "execution_count": 10,
   "metadata": {},
   "outputs": [
    {
     "name": "stdout",
     "output_type": "stream",
     "text": [
      "Number of assignments in df\n",
      "Unit test assignments: 31739, in-unit assignments: 393912\n",
      "assignment_relationships\n",
      "Number of rows: 359801\n",
      "Number of distinct test assignments: 31491\n",
      "Number of distinct in unit assignments: 356585\n"
     ]
    }
   ],
   "source": [
    "# restrict assignment_relationships to ut assignments and iu assignments in df\n",
    "ut_ass = df_rest.loc[df_rest[\"unit_test\"] == 1, \"assignment_log_id\"].unique()\n",
    "iu_ass = df_rest.loc[df_rest[\"unit_test\"] == 0, \"assignment_log_id\"].unique()\n",
    "print(\"Number of assignments in df\")\n",
    "print(f\"Unit test assignments: {len(ut_ass)}, in-unit assignments: {len(iu_ass)}\")\n",
    "# 31739, 393912\n",
    "\n",
    "assignment_relationships = assignment_relationships.loc[\n",
    "    (assignment_relationships[\"ut_id\"].isin(ut_ass))\n",
    "    & (assignment_relationships[\"iu_id\"].isin(iu_ass))\n",
    "].reset_index(drop=True)\n",
    "print(\"assignment_relationships\")\n",
    "print(f\"Number of rows: {len(assignment_relationships)}\")  # 359801\n",
    "print(f\"Number of distinct test assignments: {assignment_relationships['ut_id'].nunique()}\")\n",
    "# 31491\n",
    "print(f\"Number of distinct in unit assignments: {assignment_relationships['iu_id'].nunique()}\")\n",
    "# 356585"
   ]
  },
  {
   "cell_type": "code",
   "execution_count": 11,
   "metadata": {},
   "outputs": [
    {
     "name": "stdout",
     "output_type": "stream",
     "text": [
      "Number of rows dropped: 226769\n"
     ]
    }
   ],
   "source": [
    "# restrict df to relevant unit test and in unit assignments\n",
    "ut_ass = set(assignment_relationships[\"ut_id\"])\n",
    "iu_ass = set(assignment_relationships[\"iu_id\"])\n",
    "old_len = len(df_rest)\n",
    "df_rest = df_rest.loc[\n",
    "    df_rest[\"assignment_log_id\"].isin(list(ut_ass | iu_ass))\n",
    "].reset_index(drop=True)\n",
    "print(f\"Number of rows dropped: {old_len - len(df_rest)}\")  # 226769"
   ]
  },
  {
   "cell_type": "markdown",
   "metadata": {},
   "source": [
    "#### Drop classes with less than 3 students and that only completed UT assignments.\n",
    "\n",
    "Classes that only completed UT or IU assignments, respectively, will not be analyzed individually. In addition, we will only perform the predictions for classes with at least 3 students. However, we cannot drop the other classes completely as we may need this data for students that are in multiple classes and completed coherent assignments in those.\n",
    "\n",
    "However, we determine which classes can be analyzed individually and which cannot. For those that cannot, we drop the students that only appear in the respective class."
   ]
  },
  {
   "cell_type": "code",
   "execution_count": 12,
   "metadata": {},
   "outputs": [
    {
     "name": "stdout",
     "output_type": "stream",
     "text": [
      "364 have less than 3 students.\n",
      "1626 classes remain\n"
     ]
    }
   ],
   "source": [
    "# determine classes with at least 3 students\n",
    "num_stud_per_class = df_rest.groupby(\"class_id\")[\"student_id\"].nunique()\n",
    "rel_classes = num_stud_per_class[num_stud_per_class >= 3].index\n",
    "print(f\"{len(num_stud_per_class[num_stud_per_class < 3])} have less than 3 students.\")  # 364\n",
    "print(f\"{len(rel_classes)} classes remain\")  # 1626"
   ]
  },
  {
   "cell_type": "code",
   "execution_count": 13,
   "metadata": {},
   "outputs": [
    {
     "name": "stdout",
     "output_type": "stream",
     "text": [
      "93 (out of 1626 remaining) classes only completed ut or iu sequences\n",
      "1533 classes remain\n"
     ]
    }
   ],
   "source": [
    "# determine classes that completed both sequence types\n",
    "num_seq_types = (\n",
    "    df_rest.loc[df_rest[\"class_id\"].isin(rel_classes)]\n",
    "    .groupby(\"class_id\")[\"unit_test\"]\n",
    "    .nunique()\n",
    ")\n",
    "rel_classes = num_seq_types[num_seq_types == 2].index\n",
    "num_drop = len(num_seq_types) - len(rel_classes)\n",
    "print(\n",
    "    f\"{num_drop} (out of {len(num_seq_types)} remaining) classes only completed ut or iu sequences\"\n",
    ")  # 93, 1626\n",
    "print(f\"{len(rel_classes)} classes remain\")  # 1533"
   ]
  },
  {
   "cell_type": "code",
   "execution_count": 14,
   "metadata": {},
   "outputs": [
    {
     "name": "stdout",
     "output_type": "stream",
     "text": [
      "490 out of 21738 students will be dropped\n",
      "21248 students remain\n",
      "41210 rows have been deleted, resulting in 2893891 rows\n",
      "1786 classes remain from which 1533 are relevant\n"
     ]
    }
   ],
   "source": [
    "# only keep students from relevant classes\n",
    "rel_students = df.loc[df[\"class_id\"].isin(rel_classes), \"student_id\"].unique()\n",
    "num_all_students = df[\"student_id\"].nunique()\n",
    "print(\n",
    "    f\"{num_all_students - len(rel_students)} out of {num_all_students} students will be dropped\"\n",
    ")  # 490, 21738\n",
    "print(f\"{len(rel_students)} students remain\")  # 21248\n",
    "\n",
    "# restrict to relevant students\n",
    "old_len = len(df)\n",
    "df = df.loc[df[\"student_id\"].isin(rel_students)].copy()\n",
    "print(\n",
    "    f\"{old_len - len(df)} rows have been deleted, resulting in {len(df)} rows\"\n",
    ")  # 41210, 2893891\n",
    "print(\n",
    "    f\"{df['class_id'].nunique()} classes remain from which {len(rel_classes)} are relevant\"\n",
    ")  # 1786, 1533"
   ]
  },
  {
   "cell_type": "code",
   "execution_count": 15,
   "metadata": {},
   "outputs": [
    {
     "name": "stdout",
     "output_type": "stream",
     "text": [
      "Drop 1100 rows, resulting in 2892791 rows\n"
     ]
    }
   ],
   "source": [
    "# drop unit test data for non-relevant classes\n",
    "old_len = len(df)\n",
    "df = df.loc[(df[\"unit_test\"] == 0) | (df[\"class_id\"].isin(rel_classes))].copy()\n",
    "print(f\"Drop {old_len - len(df)} rows, resulting in {len(df)} rows\")  # 1100, 2892791"
   ]
  },
  {
   "cell_type": "markdown",
   "metadata": {},
   "source": [
    "There are still UT assignments in df for which no IU assignments exist and vice versa. Those will be dropped for our predictions.\n",
    "\n",
    "Until now, we determined the relevant classes for which predictions will be performed and our df contains all relevant data for them."
   ]
  },
  {
   "cell_type": "markdown",
   "metadata": {},
   "source": [
    "#### Again, drop UT sequences that have only been completed by one class and drop IU assignments from non-relevant classes that do not correspond to any of the remaining UT assignments.\n",
    "\n",
    "Remove UT sequences on which only one class worked as for those there will not be found a reference class.\n",
    "\n",
    "Remove UT assignments which do not have any corresponding IU assignments and remove IU assignments which do not belong to any of the existing UT assignments.\n",
    "\n",
    "Moreover, remove UT assignments from non-relevant classes. We only consider the relevant classes and corresponding UT assignments. If a student completed an IU assignment in another class, this is only considered if it belongs to an UT assignment completed in a relevant classes."
   ]
  },
  {
   "cell_type": "code",
   "execution_count": 16,
   "metadata": {},
   "outputs": [
    {
     "name": "stdout",
     "output_type": "stream",
     "text": [
      "Dropped 18 test sequences as only one class worked on it\n",
      "102 classes have been dropped, resulting in 1670 classes\n",
      "1532 classes are relevant\n",
      "79 students have been dropped, resulting in 21169 students\n",
      "37356 assignments have been dropped, resulting in 382947 assignments\n",
      "228218 rows have been dropped, resulting in 2664573 rows\n"
     ]
    }
   ],
   "source": [
    "old_num_class = df[\"class_id\"].nunique()\n",
    "old_num_stud = df[\"student_id\"].nunique()\n",
    "old_num_ass = df[\"assignment_log_id\"].nunique()\n",
    "old_len = len(df)\n",
    "\n",
    "# drop unit test sequences on which only one class worked\n",
    "num_classes_per_seq = (\n",
    "    df.loc[df[\"unit_test\"] == 1].groupby(\"sequence_id\")[\"class_id\"].nunique()\n",
    ")\n",
    "drop_seq = num_classes_per_seq[num_classes_per_seq == 1].index\n",
    "print(f\"Dropped {len(drop_seq)} test sequences as only one class worked on it\")  # 18\n",
    "old_len = len(df)\n",
    "df = df.loc[~df[\"sequence_id\"].isin(drop_seq)].copy()\n",
    "\n",
    "# restrict assignment_relationships to ut assignments and iu assignments in df\n",
    "ut_ass = df.loc[df[\"unit_test\"] == 1, \"assignment_log_id\"].unique()\n",
    "iu_ass = df.loc[df[\"unit_test\"] == 0, \"assignment_log_id\"].unique()\n",
    "assignment_relationships = assignment_relationships.loc[\n",
    "    (assignment_relationships[\"ut_id\"].isin(ut_ass))\n",
    "    & (assignment_relationships[\"iu_id\"].isin(iu_ass))\n",
    "].reset_index(drop=True)\n",
    "\n",
    "# drop assignments which do not have match\n",
    "ut_ass = set(assignment_relationships[\"ut_id\"])\n",
    "iu_ass = set(assignment_relationships[\"iu_id\"])\n",
    "df = df.loc[df[\"assignment_log_id\"].isin(list(ut_ass | iu_ass))].reset_index(drop=True)\n",
    "\n",
    "new_num_class = df[\"class_id\"].nunique()\n",
    "num_rel_classes = df.loc[df[\"unit_test\"] == 1, \"class_id\"].nunique()\n",
    "new_num_stud = df[\"student_id\"].nunique()\n",
    "new_num_ass = df[\"assignment_log_id\"].nunique()\n",
    "new_len = len(df)\n",
    "print(\n",
    "    f\"{old_num_class - new_num_class} classes have been dropped, resulting in {new_num_class} classes\"\n",
    ")\n",
    "# 102, 1670\n",
    "print(f\"{num_rel_classes} classes are relevant\")  # 1532\n",
    "print(\n",
    "    f\"{old_num_stud - new_num_stud} students have been dropped, resulting in {new_num_stud} students\"\n",
    ")\n",
    "# 79, 21169\n",
    "print(\n",
    "    f\"{old_num_ass - new_num_ass} assignments have been dropped, resulting in {new_num_ass} assignments\"\n",
    ")\n",
    "# 37356, 382947\n",
    "print(\n",
    "    f\"{old_len - new_len} rows have been dropped, resulting in {new_len} rows\"\n",
    ")  # 228218, 2664573"
   ]
  },
  {
   "cell_type": "code",
   "execution_count": 17,
   "metadata": {},
   "outputs": [],
   "source": [
    "if SAVE_PRIMARY_FILES:\n",
    "    utils.save_as_csv(df, \"final_data_main_approach.csv\", save_idx=False)"
   ]
  },
  {
   "cell_type": "markdown",
   "metadata": {},
   "source": [
    "### Data Analysis"
   ]
  },
  {
   "cell_type": "code",
   "execution_count": 18,
   "metadata": {},
   "outputs": [
    {
     "data": {
      "text/html": [
       "<div>\n",
       "<style scoped>\n",
       "    .dataframe tbody tr th:only-of-type {\n",
       "        vertical-align: middle;\n",
       "    }\n",
       "\n",
       "    .dataframe tbody tr th {\n",
       "        vertical-align: top;\n",
       "    }\n",
       "\n",
       "    .dataframe thead th {\n",
       "        text-align: right;\n",
       "    }\n",
       "</style>\n",
       "<table border=\"1\" class=\"dataframe\">\n",
       "  <thead>\n",
       "    <tr style=\"text-align: right;\">\n",
       "      <th></th>\n",
       "      <th>assignment_log_id</th>\n",
       "      <th>problem_id</th>\n",
       "      <th>timestamp</th>\n",
       "      <th>available_core_tutoring</th>\n",
       "      <th>actions</th>\n",
       "      <th>num_actions</th>\n",
       "      <th>first_answer</th>\n",
       "      <th>num_tries</th>\n",
       "      <th>final_answer</th>\n",
       "      <th>help_requested</th>\n",
       "      <th>...</th>\n",
       "      <th>hint_requested</th>\n",
       "      <th>live_tutor_requested</th>\n",
       "      <th>hint_id</th>\n",
       "      <th>explanation_id</th>\n",
       "      <th>sequence_id</th>\n",
       "      <th>student_id</th>\n",
       "      <th>class_id</th>\n",
       "      <th>teacher_id</th>\n",
       "      <th>assignment_finished</th>\n",
       "      <th>unit_test</th>\n",
       "    </tr>\n",
       "  </thead>\n",
       "  <tbody>\n",
       "    <tr>\n",
       "      <th>0</th>\n",
       "      <td>12LNLV9T5P</td>\n",
       "      <td>2MZER0YXHT</td>\n",
       "      <td>1.587658e+09</td>\n",
       "      <td>answer</td>\n",
       "      <td>['problem_started', 'correct_response', 'probl...</td>\n",
       "      <td>3.0</td>\n",
       "      <td>1</td>\n",
       "      <td>1.0</td>\n",
       "      <td>1.0</td>\n",
       "      <td>0.0</td>\n",
       "      <td>...</td>\n",
       "      <td>0.0</td>\n",
       "      <td>0.0</td>\n",
       "      <td>NaN</td>\n",
       "      <td>NaN</td>\n",
       "      <td>27GEL3MV6E</td>\n",
       "      <td>125OTT0E74</td>\n",
       "      <td>100VH25818</td>\n",
       "      <td>WOOQUZY13</td>\n",
       "      <td>1.0</td>\n",
       "      <td>0</td>\n",
       "    </tr>\n",
       "    <tr>\n",
       "      <th>1</th>\n",
       "      <td>XJMWRTN1F</td>\n",
       "      <td>SXFPGQ0Z7</td>\n",
       "      <td>1.587658e+09</td>\n",
       "      <td>answer</td>\n",
       "      <td>['problem_started', 'correct_response', 'probl...</td>\n",
       "      <td>3.0</td>\n",
       "      <td>1</td>\n",
       "      <td>1.0</td>\n",
       "      <td>1.0</td>\n",
       "      <td>0.0</td>\n",
       "      <td>...</td>\n",
       "      <td>0.0</td>\n",
       "      <td>0.0</td>\n",
       "      <td>NaN</td>\n",
       "      <td>NaN</td>\n",
       "      <td>1DHG1UNJ8Q</td>\n",
       "      <td>125OTT0E74</td>\n",
       "      <td>100VH25818</td>\n",
       "      <td>WOOQUZY13</td>\n",
       "      <td>1.0</td>\n",
       "      <td>0</td>\n",
       "    </tr>\n",
       "    <tr>\n",
       "      <th>2</th>\n",
       "      <td>XJMWRTN1F</td>\n",
       "      <td>C4U09P1SM</td>\n",
       "      <td>1.587658e+09</td>\n",
       "      <td>answer</td>\n",
       "      <td>['problem_started', 'correct_response', 'probl...</td>\n",
       "      <td>3.0</td>\n",
       "      <td>1</td>\n",
       "      <td>1.0</td>\n",
       "      <td>1.0</td>\n",
       "      <td>0.0</td>\n",
       "      <td>...</td>\n",
       "      <td>0.0</td>\n",
       "      <td>0.0</td>\n",
       "      <td>NaN</td>\n",
       "      <td>NaN</td>\n",
       "      <td>1DHG1UNJ8Q</td>\n",
       "      <td>125OTT0E74</td>\n",
       "      <td>100VH25818</td>\n",
       "      <td>WOOQUZY13</td>\n",
       "      <td>1.0</td>\n",
       "      <td>0</td>\n",
       "    </tr>\n",
       "    <tr>\n",
       "      <th>3</th>\n",
       "      <td>XJMWRTN1F</td>\n",
       "      <td>1Q6NCCELIN</td>\n",
       "      <td>1.587658e+09</td>\n",
       "      <td>answer</td>\n",
       "      <td>['problem_started', 'correct_response', 'probl...</td>\n",
       "      <td>3.0</td>\n",
       "      <td>1</td>\n",
       "      <td>1.0</td>\n",
       "      <td>1.0</td>\n",
       "      <td>0.0</td>\n",
       "      <td>...</td>\n",
       "      <td>0.0</td>\n",
       "      <td>0.0</td>\n",
       "      <td>NaN</td>\n",
       "      <td>NaN</td>\n",
       "      <td>1DHG1UNJ8Q</td>\n",
       "      <td>125OTT0E74</td>\n",
       "      <td>100VH25818</td>\n",
       "      <td>WOOQUZY13</td>\n",
       "      <td>1.0</td>\n",
       "      <td>0</td>\n",
       "    </tr>\n",
       "    <tr>\n",
       "      <th>4</th>\n",
       "      <td>XJMWRTN1F</td>\n",
       "      <td>36DSFWGZG</td>\n",
       "      <td>1.587659e+09</td>\n",
       "      <td>no_tutoring</td>\n",
       "      <td>['problem_started', 'correct_response', 'probl...</td>\n",
       "      <td>3.0</td>\n",
       "      <td>1</td>\n",
       "      <td>1.0</td>\n",
       "      <td>1.0</td>\n",
       "      <td>0.0</td>\n",
       "      <td>...</td>\n",
       "      <td>0.0</td>\n",
       "      <td>0.0</td>\n",
       "      <td>NaN</td>\n",
       "      <td>NaN</td>\n",
       "      <td>1DHG1UNJ8Q</td>\n",
       "      <td>125OTT0E74</td>\n",
       "      <td>100VH25818</td>\n",
       "      <td>WOOQUZY13</td>\n",
       "      <td>1.0</td>\n",
       "      <td>0</td>\n",
       "    </tr>\n",
       "  </tbody>\n",
       "</table>\n",
       "<p>5 rows × 22 columns</p>\n",
       "</div>"
      ],
      "text/plain": [
       "  assignment_log_id  problem_id     timestamp available_core_tutoring  \\\n",
       "0        12LNLV9T5P  2MZER0YXHT  1.587658e+09                  answer   \n",
       "1         XJMWRTN1F   SXFPGQ0Z7  1.587658e+09                  answer   \n",
       "2         XJMWRTN1F   C4U09P1SM  1.587658e+09                  answer   \n",
       "3         XJMWRTN1F  1Q6NCCELIN  1.587658e+09                  answer   \n",
       "4         XJMWRTN1F   36DSFWGZG  1.587659e+09             no_tutoring   \n",
       "\n",
       "                                             actions  num_actions  \\\n",
       "0  ['problem_started', 'correct_response', 'probl...          3.0   \n",
       "1  ['problem_started', 'correct_response', 'probl...          3.0   \n",
       "2  ['problem_started', 'correct_response', 'probl...          3.0   \n",
       "3  ['problem_started', 'correct_response', 'probl...          3.0   \n",
       "4  ['problem_started', 'correct_response', 'probl...          3.0   \n",
       "\n",
       "   first_answer  num_tries  final_answer  help_requested  ...  hint_requested  \\\n",
       "0             1        1.0           1.0             0.0  ...             0.0   \n",
       "1             1        1.0           1.0             0.0  ...             0.0   \n",
       "2             1        1.0           1.0             0.0  ...             0.0   \n",
       "3             1        1.0           1.0             0.0  ...             0.0   \n",
       "4             1        1.0           1.0             0.0  ...             0.0   \n",
       "\n",
       "   live_tutor_requested  hint_id  explanation_id sequence_id  student_id  \\\n",
       "0                   0.0      NaN             NaN  27GEL3MV6E  125OTT0E74   \n",
       "1                   0.0      NaN             NaN  1DHG1UNJ8Q  125OTT0E74   \n",
       "2                   0.0      NaN             NaN  1DHG1UNJ8Q  125OTT0E74   \n",
       "3                   0.0      NaN             NaN  1DHG1UNJ8Q  125OTT0E74   \n",
       "4                   0.0      NaN             NaN  1DHG1UNJ8Q  125OTT0E74   \n",
       "\n",
       "     class_id teacher_id assignment_finished unit_test  \n",
       "0  100VH25818  WOOQUZY13                 1.0         0  \n",
       "1  100VH25818  WOOQUZY13                 1.0         0  \n",
       "2  100VH25818  WOOQUZY13                 1.0         0  \n",
       "3  100VH25818  WOOQUZY13                 1.0         0  \n",
       "4  100VH25818  WOOQUZY13                 1.0         0  \n",
       "\n",
       "[5 rows x 22 columns]"
      ]
     },
     "execution_count": 18,
     "metadata": {},
     "output_type": "execute_result"
    }
   ],
   "source": [
    "df.head()"
   ]
  },
  {
   "cell_type": "code",
   "execution_count": 19,
   "metadata": {},
   "outputs": [
    {
     "data": {
      "text/plain": [
       "(382947, 30876, 352071)"
      ]
     },
     "execution_count": 19,
     "metadata": {},
     "output_type": "execute_result"
    }
   ],
   "source": [
    "# number of assignments (UT and IU)\n",
    "df[\"assignment_log_id\"].nunique(), df.loc[df[\"unit_test\"] == 1, \"assignment_log_id\"].nunique(), df.loc[df[\"unit_test\"] == 0, \"assignment_log_id\"].nunique()"
   ]
  },
  {
   "cell_type": "code",
   "execution_count": 20,
   "metadata": {},
   "outputs": [
    {
     "data": {
      "text/plain": [
       "(count    30876.000000\n",
       " mean        11.362450\n",
       " std          6.576614\n",
       " min          3.000000\n",
       " 25%          6.000000\n",
       " 50%         10.000000\n",
       " 75%         15.000000\n",
       " max         44.000000\n",
       " Name: problem_id, dtype: float64,\n",
       " count    352071.000000\n",
       " mean          6.571816\n",
       " std           6.603166\n",
       " min           1.000000\n",
       " 25%           2.000000\n",
       " 50%           4.000000\n",
       " 75%           9.000000\n",
       " max          75.000000\n",
       " Name: problem_id, dtype: float64)"
      ]
     },
     "execution_count": 20,
     "metadata": {},
     "output_type": "execute_result"
    }
   ],
   "source": [
    "# number of problems per UT assignment\n",
    "num_probs_per_ass_ut = df[df[\"unit_test\"] == 1].groupby(\"assignment_log_id\")[\"problem_id\"].nunique()\n",
    "\n",
    "# number of problems per IU assignment\n",
    "num_probs_per_ass_iu = df[df[\"unit_test\"] == 0].groupby(\"assignment_log_id\")[\"problem_id\"].nunique()\n",
    "\n",
    "num_probs_per_ass_ut.describe(), num_probs_per_ass_iu.describe()"
   ]
  },
  {
   "cell_type": "code",
   "execution_count": 21,
   "metadata": {},
   "outputs": [
    {
     "data": {
      "text/plain": [
       "(1532,\n",
       " 21169,\n",
       " count    1532.000000\n",
       " mean       14.531984\n",
       " std         9.121483\n",
       " min         1.000000\n",
       " 25%         8.000000\n",
       " 50%        13.000000\n",
       " 75%        19.000000\n",
       " max       104.000000\n",
       " Name: student_id, dtype: float64)"
      ]
     },
     "execution_count": 21,
     "metadata": {},
     "output_type": "execute_result"
    }
   ],
   "source": [
    "# number of relevant classes, students, and mean number of students in relevant classes\n",
    "df.loc[df[\"unit_test\"] == 1, \"class_id\"].nunique(), df[\"student_id\"].nunique(), df[df[\"unit_test\"] == 1].groupby(\"class_id\")[\"student_id\"].nunique().describe()"
   ]
  },
  {
   "cell_type": "code",
   "execution_count": 22,
   "metadata": {},
   "outputs": [
    {
     "data": {
      "text/plain": [
       "(0.5859469197068641, 0.6947923410780613)"
      ]
     },
     "execution_count": 22,
     "metadata": {},
     "output_type": "execute_result"
    }
   ],
   "source": [
    "# mean performance in ut data, mean performance in iu data\n",
    "df.loc[df[\"unit_test\"] == 1, \"first_answer\"].mean(), df.loc[df[\"unit_test\"] == 0, \"first_answer\"].mean()"
   ]
  },
  {
   "cell_type": "code",
   "execution_count": null,
   "metadata": {},
   "outputs": [],
   "source": []
  }
 ],
 "metadata": {
  "kernelspec": {
   "display_name": ".venv",
   "language": "python",
   "name": "python3"
  },
  "language_info": {
   "codemirror_mode": {
    "name": "ipython",
    "version": 3
   },
   "file_extension": ".py",
   "mimetype": "text/x-python",
   "name": "python",
   "nbconvert_exporter": "python",
   "pygments_lexer": "ipython3",
   "version": "3.11.5"
  }
 },
 "nbformat": 4,
 "nbformat_minor": 2
}
